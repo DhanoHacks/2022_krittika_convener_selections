{
 "cells": [
  {
   "cell_type": "markdown",
   "id": "d5c6e7d4",
   "metadata": {},
   "source": [
    "# Krittika Convener Selection\n",
    "## Python Assignment\n",
    "\n",
    "1. You may find the KSP tutorials useful: https://github.com/krittikaiitb/tutorials - Tutorials 1,2,3, and 4 are particularly relevant. These cover basic python, numpy, functions in python and matplotlib respectively.\n",
    "\n",
    "2. A helpful reminder that executing a cell with help (for example: help(np.loadtxt) or np.loadtxt?) will show the documentation for that function.\n",
    "\n",
    "3. The use of internet is completely ALLOWED for solving this assignment.\n",
    "\n",
    "4. Feel free to use multiple cells for your solutions, this would make your code easier to understand in a step-by-step fashion. But keep them separate for each question (don't use a cell to solve Q1 after Q2).\n",
    "\n",
    "5. Try to keep your code neat and make use of comments and/or markdown cells to explain what you have done."
   ]
  },
  {
   "cell_type": "code",
   "execution_count": 9,
   "id": "ee984c1c",
   "metadata": {},
   "outputs": [],
   "source": [
    "# try to put all your imports here\n",
    "import matplotlib.pyplot as plt\n",
    "from scipy import optimize\n",
    "import numpy as np"
   ]
  },
  {
   "cell_type": "markdown",
   "id": "f5528a29",
   "metadata": {},
   "source": [
    "### Q1: Parsing Form Responses\n",
    "Suppose that you are a convener and it has been a few months into your tenure. We have organized an event focused at the newly joining freshers(your juniors).\n",
    "\n",
    "We floated a Google form to collect their details and get them registered. We planned to contact them all via WebMail to send them details of the event.\n",
    "\n",
    "While going through the responses, you discover that your co-convener forgot to filter inputs in the form! There appear to be many invalid roll numbers - we cannot contact these students via WebMail. Here are the first few entries:\n",
    "\n",
    "| Sr. No. | Name | Roll Number | Contact Number |\n",
    "|---------|------|-------------|----------------|\n",
    "| 1       | MV   | 220070044   | 986937546      |\n",
    "| 2       | DV   | 22b280013   | 961101307      |\n",
    "| 3       | RR   | 21070042    | 908204532      |\n",
    "| 4       | YB   | 220030019   | 947226579      |\n",
    "\n",
    "As you can see, we can already see an erroneous LDAP in the $3$rd input.\n",
    "\n",
    "Your task here is to find out the submissions with wrong roll numbers and filter them out. We would reach out to such people using their contact numbers. Your final output should be the names and contact numbers of these people.\n",
    "\n",
    "*PS : As you might suspect, this data is sourced from an actual event from our tenure. It has been anonymized and the errors have been exaggerated :)*"
   ]
  },
  {
   "cell_type": "code",
   "execution_count": 10,
   "id": "00a71113",
   "metadata": {},
   "outputs": [],
   "source": [
    "file1 = 'Dataset_Q1.csv' #this is the CSV file that countains all the responses\n",
    "file3 = 'Dataset_Q2_filtered.csv'  # CSV in which filtered table will be stored"
   ]
  },
  {
   "cell_type": "markdown",
   "id": "8919e459",
   "metadata": {},
   "source": [
    "Feel free to use any libraries/standard functions that you might need to solve this problem."
   ]
  },
  {
   "cell_type": "code",
   "execution_count": 11,
   "id": "ea8f7e8b",
   "metadata": {},
   "outputs": [
    {
     "name": "stdout",
     "output_type": "stream",
     "text": [
      "Displaying all erroneous submissions:\n",
      "3,RR,21070042,908204532\n",
      "11,BP,2230100228,980849718\n",
      "21,SP,22026005,936914944\n",
      "32,JS,21070024,979691534\n",
      "49,PM,20350117,996497703\n",
      "56,VN,2200700008,918746674\n",
      "60,SN,2241800005,902766352\n",
      "64,AR,22026008,992993873\n",
      "83,SS,21020016,914286714\n",
      "86,DS,320003699,914030157\n",
      "95,AB,2200020034,934220771\n",
      "102,MM,22007054,918359105\n"
     ]
    }
   ],
   "source": [
    "# Solution code\n",
    "file_in = open(file1,'r')\n",
    "file_out = open(file3,'w')\n",
    "form_entries = file_in.read().split('\\n')\n",
    "del form_entries[-1]\n",
    "i=0\n",
    "print(\"Displaying all erroneous submissions:\")\n",
    "while i<len(form_entries):\n",
    "    form_entries[i]=form_entries[i].split(',')\n",
    "    form_entries[i][2]=form_entries[i][2].strip()   # removing all trailing and leading whitespaces so that they do not affect the condition\n",
    "    if i!=0 and (len(form_entries[i][2])!=9 or form_entries[i][2][0:2] not in ('20','21','22')):     \n",
    "        print(','.join(form_entries[i]))            # erroneous entries are those in which:                                                 \n",
    "        del form_entries[i]                         #       roll number is not exactly 9 digits long                                                 \n",
    "    else:                                           #       first two digits of roll number are not like 20, 21 or 22\n",
    "        i+=1\n",
    "for i in range(len(form_entries)):\n",
    "    if i!=0:\n",
    "        form_entries[i][0]=str(i)\n",
    "    file_out.write(','.join(form_entries[i])+'\\n')  #converting the list back into CSV format\n",
    "file_in.close()\n",
    "file_out.close()"
   ]
  },
  {
   "cell_type": "markdown",
   "id": "801e187a",
   "metadata": {},
   "source": [
    "#### Bonus part:\n",
    "Amongst the valid entries, what proportion are actually freshers? Remember that we intended to target them with this event. The majority seem to be freshers but you will also find some second and third year students. You can identify each of these groups by the first two digits of their roll numbers. \n",
    "\n",
    "Your task is to graphically depict the number of applicants across the three batches."
   ]
  },
  {
   "cell_type": "code",
   "execution_count": 12,
   "id": "e4ea5290",
   "metadata": {},
   "outputs": [
    {
     "data": {
      "image/png": "[encoded data removed]",
      "text/plain": [
       "<Figure size 360x360 with 1 Axes>"
      ]
     },
     "metadata": {
      "needs_background": "light"
     },
     "output_type": "display_data"
    }
   ],
   "source": [
    "# Solution code\n",
    "year=['Freshies','Sophies','Thirdies']\n",
    "students_from_year=[0,0,0]                                           #initializing the list\n",
    "i=1\n",
    "while i<len(form_entries):\n",
    "    students_from_year[2-int(form_entries[i][2][1])]+=1              #updating the counter of relevant index\n",
    "    i+=1\n",
    "fig = plt.figure(figsize = (5, 5))\n",
    "plt.bar(year, students_from_year, color ='maroon',width = 0.5)       #plotting bar graph\n",
    "plt.xlabel(\"Year of Study\")\n",
    "plt.ylabel(\"No. of form submissions\")\n",
    "plt.title(\"Participation in Krittika Event\")\n",
    "plt.show()"
   ]
  },
  {
   "cell_type": "markdown",
   "id": "9d1911c6",
   "metadata": {},
   "source": [
    "### Q2: A New Discovery\n",
    "During one of our regular stargazing sessions, you and your co-conveners discover a new blip of light that shouldn't be there. After examining it a bit, you realise that this object is not quite like anything the world has seen before. You share your data with club seniors and make a startling find - its the first of its kind of a completely new class of objects. An ex-secy of the club, Siddhant Tripathy, analyses it extensively and declares that its actually the first ever **endoplanet** to be found. You and your team are now international celebrities, but its time to organise an event so that people from insti can see this.\n",
    "\n",
    "Your task is to find out when exactly Tripps' endoplanet would be at its brightest and organise a stargazing session on that date so that everyone can see it for themselves. You have data from a month of observations of this object and you need to extrapolate it to find the peak."
   ]
  },
  {
   "cell_type": "code",
   "execution_count": 13,
   "id": "9e7d5141",
   "metadata": {},
   "outputs": [],
   "source": [
    "file2 = 'Dataset_Q2.csv'"
   ]
  },
  {
   "cell_type": "markdown",
   "id": "99dc43d3",
   "metadata": {},
   "source": [
    "According to your analysis, this object is in a special orbit that gives it a roughly Gaussian light curve i.e. the plot of [magnitude](https://en.wikipedia.org/wiki/Apparent_magnitude) v/s time roughly follows an inverted Gaussian function. Recall that a generic Gaussian function with unit amplitude is given by\n",
    "\n",
    "$$f(x) = \\frac{1}{\\sigma\\sqrt{2\\pi}}\\exp\\left({-\\frac{1}{2}{\\left(\\frac{x-\\mu}{\\sigma}\\right)}^2}\\right)$$ \n",
    "\n",
    "where $\\mu$ is the mean of the distribution it describes and $\\sigma$ is the standard deviation. More about it [here](https://archive.lib.msu.edu/crcmath/math/math/g/g087.htm).\n",
    "\n",
    "Your task is to find the date at which the endoplanet will be at it's brightest, along with how bright its expected to be. Also plot the original data along with the fitted curve.\n",
    "\n",
    "You can do this by fitting a gaussian to the light curve data and locating its extremum. You may find `scipy.optimize.curve_fit` useful. \n",
    "\n",
    "**Important** : Our fit function must be a Gaussian with a vertical offset. The problem is that `curve_fit` tends to misbehave in this particular example when you ask it to guess that offset, so assume it to be $9.0$ to solve this problem. This, of course, implies that the baseline magnitude of the object is $9.0$"
   ]
  },
  {
   "cell_type": "code",
   "execution_count": 14,
   "id": "cf3750af",
   "metadata": {},
   "outputs": [
    {
     "data": {
      "image/png": "[encoded data removed]",
      "text/plain": [
       "<Figure size 432x288 with 1 Axes>"
      ]
     },
     "metadata": {
      "needs_background": "light"
     },
     "output_type": "display_data"
    },
    {
     "name": "stdout",
     "output_type": "stream",
     "text": [
      "Day of maximum brightness (expected): Jun 28\n"
     ]
    }
   ],
   "source": [
    "# Solution code\n",
    "def gaussian(x, amplitude, mean, stddev):\n",
    "    return 9.0+amplitude * np.exp(-((x - mean) / 4 / stddev)**2)\n",
    "    \n",
    "with open(file2,'r') as f:\n",
    "    data=f.read().split('\\n')\n",
    "    del data[0], data[-1]\n",
    "\n",
    "x=[] #initializing containers for plotting data\n",
    "y=[]\n",
    "\n",
    "for i in range(len(data)):\n",
    "    data[i]=data[i].split(',')\n",
    "    date=data[i][1]\n",
    "    # converting DDMM format to 'Days since April 30st'\n",
    "    if 'May' in date:\n",
    "        date_in_int=int(date[:date.find('-')])\n",
    "    elif 'Jun' in date:\n",
    "        date_in_int=int(date[:date.find('-')])+31\n",
    "    magnitude=data[i][2]\n",
    "    x.append(date_in_int)\n",
    "    y.append(float(magnitude))\n",
    "\n",
    "popt, pcov = optimize.curve_fit(gaussian, x, y) # scipy handles the curve fitting\n",
    "\n",
    "x_longer=[x[0]+i for i in range(60)] # making an extended list to show where maximum brightness occurs\n",
    "\n",
    "date_of_maximum=round(popt[1])  # maximum for gaussian occurs at mean\n",
    "\n",
    "plt.scatter(x, y, c =\"blue\")\n",
    "plt.plot(x_longer, gaussian(x_longer, *popt),'r-')\n",
    "plt.plot(date_of_maximum,gaussian(date_of_maximum, *popt),'gs')\n",
    "plt.xlabel(\"Days Since April 30th\")\n",
    "plt.ylabel(\"Apparent Magnitude\")\n",
    "plt.legend([\"Observations\",\"Best Fit Gaussian\",\"Expected Date of Maximum\"])\n",
    "# To show the plot\n",
    "plt.show()\n",
    "\n",
    "if date_of_maximum>61:\n",
    "    date_of_maximum-=61\n",
    "    month='Jul'\n",
    "elif date_of_maximum>31:\n",
    "    date_of_maximum-=31\n",
    "    month='Jun'\n",
    "else:\n",
    "    month='May'\n",
    "print(\"Day of maximum brightness (expected):\",month,date_of_maximum,sep=' ')"
   ]
  },
  {
   "cell_type": "markdown",
   "id": "13da0dc1",
   "metadata": {},
   "source": [
    "#### Bonus part:\n",
    "\n",
    "Can this date be trusted? We wouldn't want to claim the endoplanet is the brightest on a particular day and then have it brighten up even more later. Try to ascertain the error in this predicted date. Read the documentation of `curve_fit` and try to understand the statistical significance of the quantities it returns."
   ]
  },
  {
   "cell_type": "code",
   "execution_count": 15,
   "id": "08d245f9",
   "metadata": {},
   "outputs": [
    {
     "name": "stdout",
     "output_type": "stream",
     "text": [
      "Level of Precision for the unknown parameters of gaussian function:\n",
      "Amplitude:           -5.366 ± 1.786\n",
      "Mean:                58.611 ± 6.213\n",
      "Standard Deviation:  -5.283 ± 0.666\n"
     ]
    }
   ],
   "source": [
    "# Solution code\n",
    "print(\"Level of Precision for the unknown parameters of gaussian function:\")\n",
    "# use the fact that diagonals of covariance matrix gives us the variance of each parameter\n",
    "print(f\"Amplitude:           {popt[0]:.3f} ± {np.sqrt(pcov[0][0]):.3f}\") \n",
    "print(f\"Mean:                {popt[1]:.3f} ± {np.sqrt(pcov[1][1]):.3f}\") \n",
    "print(f\"Standard Deviation:  {popt[2]:.3f} ± {np.sqrt(pcov[2][2]):.3f}\") "
   ]
  }
 ],
 "metadata": {
  "interpreter": {
   "hash": "d1b90c5335d2d59695677ba92f1496bd07d6c722efa78d3dbe62c862e9c0f695"
  },
  "kernelspec": {
   "display_name": "Python 3.10.2 64-bit",
   "language": "python",
   "name": "python3"
  },
  "language_info": {
   "codemirror_mode": {
    "name": "ipython",
    "version": 3
   },
   "file_extension": ".py",
   "mimetype": "text/x-python",
   "name": "python",
   "nbconvert_exporter": "python",
   "pygments_lexer": "ipython3",
   "version": "3.10.2"
  }
 },
 "nbformat": 4,
 "nbformat_minor": 5
}
